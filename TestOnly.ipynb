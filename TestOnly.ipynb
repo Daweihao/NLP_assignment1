{
 "cells": [
  {
   "cell_type": "code",
   "execution_count": 3,
   "metadata": {},
   "outputs": [],
   "source": [
    "def get_precision(y_pred, y_true):\n",
    "    ## YOUR CODE HERE...\n",
    "    n = len(y_pred)\n",
    "    fps, tns, tps, fns = 0,0,0,0\n",
    "    for i in range(n):\n",
    "        if y_pred[i] > y_true[i]:\n",
    "            fps+=1\n",
    "            continue;\n",
    "        if y_pred[i] < y_true[i]:\n",
    "            fns+=1\n",
    "            continue\n",
    "        if (y_pred[i] + y_true[i]) == 0:\n",
    "            tns+=1\n",
    "            continue\n",
    "        if (y_pred[i] + y_true[i]) > 1:\n",
    "            tps+=1\n",
    "            continue\n",
    "    precision = tps/(tps + fps)\n",
    "    return precision\n",
    "\n",
    "def get_recall(y_pred, y_true):\n",
    "    ## YOUR CODE HERE...\n",
    "    n = len(y_pred)\n",
    "    fps, tns, tps, fns = 0,0,0,0\n",
    "    for i in range(n):\n",
    "        if y_pred[i] > y_true[i]:\n",
    "            fps+=1\n",
    "            continue;\n",
    "        if y_pred[i] < y_true[i]:\n",
    "            fns+=1\n",
    "            continue\n",
    "        if (y_pred[i] + y_true[i]) == 0:\n",
    "            tns+=1\n",
    "            continue\n",
    "        if (y_pred[i] + y_true[i]) > 1:\n",
    "            tps+=1\n",
    "            continue\n",
    "    recall = tps/(fns + tps)\n",
    "    return recall\n",
    "\n",
    "def get_fscore(y_pred, y_true):\n",
    "    ## YOUR CODE HERE...\n",
    "    recall = get_recall(y_pred, y_true)\n",
    "    precision = get_precision(y_pred, y_true)\n",
    "    fscore = 2/(1/precision + 1/recall)\n",
    "    return fscore"
   ]
  },
  {
   "cell_type": "code",
   "execution_count": 7,
   "metadata": {},
   "outputs": [],
   "source": [
    "y_pred = [1,0,1,0,1,0,1,0]\n",
    "y_true = [0,1,0,0,1,1,1,1]"
   ]
  },
  {
   "cell_type": "code",
   "execution_count": 8,
   "metadata": {},
   "outputs": [
    {
     "name": "stdout",
     "output_type": "stream",
     "text": [
      "0.4\n",
      "0.5\n",
      "0.4444444444444444\n"
     ]
    }
   ],
   "source": [
    "print(get_recall(y_pred,y_true))\n",
    "print(get_precision(y_pred,y_true))\n",
    "print(get_fscore(y_pred,y_true))"
   ]
  },
  {
   "cell_type": "code",
   "execution_count": 9,
   "metadata": {},
   "outputs": [],
   "source": [
    "def load_file(data_file):\n",
    "    words = []\n",
    "    labels = []\n",
    "    with open(data_file,'rt',encoding=\"utf8\") as f:\n",
    "        i = 0\n",
    "        for line in f:\n",
    "            if i > 0:\n",
    "                line_split = line[:-1].split(\"\\t\")\n",
    "                words.append(line_split[0].lower())\n",
    "                labels.append(int(line_split[1]))\n",
    "            i += 1\n",
    "    return words,labels"
   ]
  },
  {
   "cell_type": "code",
   "execution_count": 10,
   "metadata": {},
   "outputs": [],
   "source": [
    "import numpy as np"
   ]
  },
  {
   "cell_type": "code",
   "execution_count": 20,
   "metadata": {},
   "outputs": [],
   "source": [
    "def all_complex(datafile):\n",
    "    words, labels = load_file(datafile)\n",
    "    #preds = np.ones_like(labels)\n",
    "    preds = [1]*len(labels)\n",
    "    precision = get_precision(preds,labels)\n",
    "    recall = get_recall(preds, labels)\n",
    "    fscore = get_fscore(preds, labels)\n",
    "    performance = [precision,recall,fscore]\n",
    "    return performance\n",
    "            "
   ]
  },
  {
   "cell_type": "code",
   "execution_count": 22,
   "metadata": {},
   "outputs": [
    {
     "name": "stdout",
     "output_type": "stream",
     "text": [
      "[0.418, 1.0, 0.5895627644569816]\n"
     ]
    }
   ],
   "source": [
    "print(all_complex(\"data/complex_words_development.txt\"))"
   ]
  }
 ],
 "metadata": {
  "kernelspec": {
   "display_name": "Python 3",
   "language": "python",
   "name": "python3"
  },
  "language_info": {
   "codemirror_mode": {
    "name": "ipython",
    "version": 3
   },
   "file_extension": ".py",
   "mimetype": "text/x-python",
   "name": "python",
   "nbconvert_exporter": "python",
   "pygments_lexer": "ipython3",
   "version": "3.6.5"
  }
 },
 "nbformat": 4,
 "nbformat_minor": 2
}
