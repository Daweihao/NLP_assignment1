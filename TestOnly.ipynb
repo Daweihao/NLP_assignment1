{
 "cells": [
  {
   "cell_type": "code",
   "execution_count": 4,
   "metadata": {},
   "outputs": [],
   "source": [
    "def get_precision(y_pred, y_true):\n",
    "    ## YOUR CODE HERE...\n",
    "    n = len(y_pred)\n",
    "    fps,tps = 0,0\n",
    "    for i in range(n):\n",
    "        if y_pred[i] > y_true[i]:\n",
    "            fps+=1\n",
    "            continue;\n",
    "#         if y_pred[i] < y_true[i]:\n",
    "#             fns+=1\n",
    "#             continue\n",
    "#         if (y_pred[i] + y_true[i]) == 0:\n",
    "#             tns+=1\n",
    "#             continue\n",
    "        if (y_pred[i] + y_true[i]) > 1:\n",
    "            tps+=1\n",
    "            continue\n",
    "    precision = tps/(tps + fps)\n",
    "    return precision\n",
    "\n",
    "def get_recall(y_pred, y_true):\n",
    "    ## YOUR CODE HERE...\n",
    "    n = len(y_pred)\n",
    "    tps, fns = 0,0,0,0\n",
    "    for i in range(n):\n",
    "#         if y_pred[i] > y_true[i]:\n",
    "#             fps+=1\n",
    "#             continue;\n",
    "        if y_pred[i] < y_true[i]:\n",
    "            fns+=1\n",
    "            continue\n",
    "#         if (y_pred[i] + y_true[i]) == 0:\n",
    "#             tns+=1\n",
    "#             continue\n",
    "        if (y_pred[i] + y_true[i]) > 1:\n",
    "            tps+=1\n",
    "            continue\n",
    "    recall = tps/(fns + tps)\n",
    "    return recall\n",
    "\n",
    "def get_fscore(y_pred, y_true):\n",
    "    ## YOUR CODE HERE...\n",
    "    recall = get_recall(y_pred, y_true)\n",
    "    precision = get_precision(y_pred, y_true)\n",
    "    fscore = 2/(1/precision + 1/recall)\n",
    "    return fscore"
   ]
  },
  {
   "cell_type": "code",
   "execution_count": 7,
   "metadata": {},
   "outputs": [],
   "source": [
    "y_pred = [1,0,1,0,1,0,1,0]\n",
    "y_true = [0,1,0,0,1,1,1,1]"
   ]
  },
  {
   "cell_type": "code",
   "execution_count": 8,
   "metadata": {},
   "outputs": [
    {
     "name": "stdout",
     "output_type": "stream",
     "text": [
      "0.4\n",
      "0.5\n",
      "0.4444444444444444\n"
     ]
    }
   ],
   "source": [
    "print(get_recall(y_pred,y_true))\n",
    "print(get_precision(y_pred,y_true))\n",
    "print(get_fscore(y_pred,y_true))"
   ]
  },
  {
   "cell_type": "code",
   "execution_count": 1,
   "metadata": {},
   "outputs": [],
   "source": [
    "def load_file(data_file):\n",
    "    words = []\n",
    "    labels = []\n",
    "    with open(data_file,'rt',encoding=\"utf8\") as f:\n",
    "        i = 0\n",
    "        for line in f:\n",
    "            if i > 0:\n",
    "                line_split = line[:-1].split(\"\\t\")\n",
    "                words.append(line_split[0].lower())\n",
    "                labels.append(int(line_split[1]))\n",
    "            i += 1\n",
    "    return words,labels"
   ]
  },
  {
   "cell_type": "code",
   "execution_count": 55,
   "metadata": {},
   "outputs": [],
   "source": [
    "import numpy as np\n",
    "import gzip\n",
    "from collections import defaultdict\n",
    "from statistics import median"
   ]
  },
  {
   "cell_type": "code",
   "execution_count": 3,
   "metadata": {},
   "outputs": [],
   "source": [
    "def all_complex(datafile):\n",
    "    words, labels = load_file(datafile)\n",
    "    #preds = np.ones_like(labels)\n",
    "    preds = [1]*len(labels)\n",
    "    precision = get_precision(preds,labels)\n",
    "    recall = get_recall(preds, labels)\n",
    "    fscore = get_fscore(preds, labels)\n",
    "    performance = [precision,recall,fscore]\n",
    "    return performance\n",
    "            "
   ]
  },
  {
   "cell_type": "code",
   "execution_count": 22,
   "metadata": {},
   "outputs": [
    {
     "name": "stdout",
     "output_type": "stream",
     "text": [
      "[0.418, 1.0, 0.5895627644569816]\n"
     ]
    }
   ],
   "source": [
    "print(all_complex(\"data/complex_words_development.txt\"))"
   ]
  },
  {
   "cell_type": "code",
   "execution_count": 18,
   "metadata": {},
   "outputs": [],
   "source": [
    "# function for labeling word length \n",
    "def mark(words,threshold):\n",
    "    preds = []\n",
    "    for word in words:\n",
    "        if len(word) >= threshold:\n",
    "            preds.append(1)\n",
    "        else:\n",
    "            preds.append(0)\n",
    "    return preds  "
   ]
  },
  {
   "cell_type": "code",
   "execution_count": 43,
   "metadata": {},
   "outputs": [],
   "source": [
    "def word_length_threshold(training_file, development_file):\n",
    "    # t stands for training_file, d stands for development_file\n",
    "    w_t, l_t = load_file(training_file)\n",
    "    w_d, l_d = load_file(development_file)\n",
    "    # find the max fscore during the iteration\n",
    "    fscore_max_t = 0\n",
    "#     fscore_max_d = 0\n",
    "    precision_t_max = 0\n",
    "#     precision_d_max = 0\n",
    "    recall_t_max = 0\n",
    "#     recall_d_max = 0\n",
    "    threshold_t = 0\n",
    "#     threshold_d = 0\n",
    "    for i in range(10):\n",
    "        pred_t = mark(w_t,i)\n",
    "        precision_t,recall_t,fscore_t = get_precision(pred_t,l_t),get_recall(pred_t,l_t),get_fscore(pred_t,l_t)\n",
    "        if fscore_t > fscore_max_t:\n",
    "            fscore_max_t = fscore_t\n",
    "            precision_t_max = precision_t\n",
    "            recall_t_max = recall_t\n",
    "            threshold_t = i\n",
    "#         if fscore_d > fscore_max_d:\n",
    "#             fscore_max_d = fscore_d\n",
    "#             precision_d_max = precision_d\n",
    "#             recall_d_max = recall_d\n",
    "#             threshold_d = i\n",
    "#         print(\"Threshold :%d ,precision in training: %f ,recall in t: %f,fcore in t: %f\"% (i,precision_t,recall_t,fscore_t))\n",
    "#         print(\"Threshold :%d ,precision in dev: %f ,recall in dev: %f,fcore in dev: %f\"% (i,precision_d,recall_d,fscore_d))\n",
    "    pred_d = mark(w_d,threshold_t)\n",
    "    precision_d,recall_d,fscore_d = get_precision(pred_d,l_d),get_recall(pred_d,l_d),get_fscore(pred_d,l_d)\n",
    "    print(\"Best performance in training, threshold : %d, precision %f, recall %f, fscore %f \"%(threshold_t,precision_t_max,recall_t_max,fscore_max_t))\n",
    "    print(\"Best performance in development, threshold : %d, precision %f, recall %f, fscore %f \"%(threshold_t,precision_d,recall_d,fscore_d))\n",
    "    training_performance = [precision_t, recall_t, fscore_t]\n",
    "    development_performance = [precision_d, recall_d, fscore_d]\n",
    "    return training_performance, development_performance    "
   ]
  },
  {
   "cell_type": "code",
   "execution_count": 56,
   "metadata": {},
   "outputs": [
    {
     "name": "stdout",
     "output_type": "stream",
     "text": [
      "Best performance in training, threshold : 7, precision 0.598588, recall 0.851623, fscore 0.703030 \n",
      "Best performance in development, threshold : 7, precision 0.605351, recall 0.866029, fscore 0.712598 \n",
      "([0.7399150743099787, 0.5386398763523956, 0.6234347048300537], [0.6053511705685619, 0.8660287081339713, 0.7125984251968505])\n"
     ]
    }
   ],
   "source": [
    "training_file = \"data/complex_words_training.txt\"\n",
    "development_file = \"data/complex_words_development.txt\"\n",
    "print(word_length_threshold(training_file,development_file))"
   ]
  },
  {
   "cell_type": "code",
   "execution_count": 57,
   "metadata": {},
   "outputs": [],
   "source": [
    "## load Google Ngram counts\n",
    "def load_ngram_counts(ngram_counts_file):\n",
    "    counts = defaultdict(int)\n",
    "    with gzip.open(ngram_counts_file,'rt') as f:\n",
    "        for line in f:\n",
    "            token,count = line.strip().split('\\t')\n",
    "            if token[0].islower():\n",
    "                counts[token] = int(count)\n",
    "    return counts\n",
    "    "
   ]
  },
  {
   "cell_type": "code",
   "execution_count": 80,
   "metadata": {},
   "outputs": [],
   "source": [
    "def frequency_threshold_feature(words, threshold, counts):\n",
    "    result = []\n",
    "    for i in range(len(words)):\n",
    "        wordFreq = counts.get(words[i].lower())\n",
    "        if wordFreq is None:\n",
    "            result.append(1)\n",
    "        elif wordFreq <= threshold:\n",
    "            result.append(1)\n",
    "        elif wordFreq > threshold:\n",
    "            result.append(0)\n",
    "    return  result"
   ]
  },
  {
   "cell_type": "code",
   "execution_count": 83,
   "metadata": {},
   "outputs": [],
   "source": [
    "def word_frequency_threshold(training_file, development_file, counts):\n",
    "    \n",
    "    twords, tlabels = load_file(training_file)\n",
    "    dwords, dlabels = load_file(development_file)\n",
    "    max_in_t = find_max_frequency(counts, twords)\n",
    "    max_in_d = find_max_frequency(counts, dwords)\n",
    "    min_in_t = find_min_frequency(counts, twords)\n",
    "    fscore_max = 0\n",
    "    freq = 0\n",
    "    for i in range(min_in_t, max_in_t + 1):\n",
    "        preds = frequency_threshold_feature(twords,i, counts)\n",
    "        fscore = get_fscore(preds, tlabels)\n",
    "        fscore_max,freq = (fscore,i) if fscore > fscore_max else (fscore_max,freq)\n",
    "    \n",
    "    print(\"best freqency %d\"% freq)\n",
    "    dpred = frequency_threshold_feature(dwords, freq, counts)\n",
    "    tpred = frequency_threshold_feature(twords, freq,counts)\n",
    "    \n",
    "    dprecision,drecall,dfscore = get_precision(dpred,dlabels),get_recall(dpred,dlabels),get_fscore(dpred,dlabels)\n",
    "    tprecision,trecall,tfscore = get_precision(tpred,tlabels),get_recall(tpred,tlabels),get_fscore(tpred,tlabels)\n",
    "    \n",
    "    training_performance = [tprecision, trecall, tfscore]\n",
    "    development_performance = [dprecision, drecall, dfscore]\n",
    "    return training_performance, development_performance"
   ]
  },
  {
   "cell_type": "code",
   "execution_count": 65,
   "metadata": {},
   "outputs": [],
   "source": [
    "def find_max_frequency(counts, words):\n",
    "    max_freq = 0\n",
    "    for word in words:\n",
    "        if word in counts:\n",
    "            freq = counts.get(word)\n",
    "            max_freq = freq if freq > max_freq else max_freq\n",
    "    return max_freq"
   ]
  },
  {
   "cell_type": "code",
   "execution_count": 69,
   "metadata": {},
   "outputs": [],
   "source": [
    "def find_min_frequency(counts, words):\n",
    "    min_freq = 1000\n",
    "    for word in words:\n",
    "        if word in counts:\n",
    "            freq = counts.get(word)\n",
    "            min_freq = freq if freq < min_freq else min_freq\n",
    "    return min_freq"
   ]
  },
  {
   "cell_type": "code",
   "execution_count": 84,
   "metadata": {},
   "outputs": [
    {
     "name": "stdout",
     "output_type": "stream",
     "text": [
      "(0.06624383368569414, 0)\n"
     ]
    }
   ],
   "source": [
    "ngram_counts_file = \"ngram_counts.txt.gz\"\n",
    "counts = load_ngram_counts(ngram_counts_file)\n",
    "print(word_frequency_threshold(training_file,development_file,counts))"
   ]
  },
  {
   "cell_type": "code",
   "execution_count": 79,
   "metadata": {},
   "outputs": [
    {
     "name": "stdout",
     "output_type": "stream",
     "text": [
      "time\n"
     ]
    }
   ],
   "source": [
    "for key,val in counts.items():\n",
    "    if val == 1120679362:\n",
    "        print(key)"
   ]
  }
 ],
 "metadata": {
  "kernelspec": {
   "display_name": "Python 3",
   "language": "python",
   "name": "python3"
  },
  "language_info": {
   "codemirror_mode": {
    "name": "ipython",
    "version": 3
   },
   "file_extension": ".py",
   "mimetype": "text/x-python",
   "name": "python",
   "nbconvert_exporter": "python",
   "pygments_lexer": "ipython3",
   "version": "3.6.5"
  }
 },
 "nbformat": 4,
 "nbformat_minor": 2
}
